{
 "cells": [
  {
   "cell_type": "code",
   "execution_count": 48,
   "metadata": {},
   "outputs": [],
   "source": [
    "import numpy as np\n",
    "import pandas as pd\n",
    "import pandas as pd\n",
    "from sklearn.model_selection import train_test_split, GridSearchCV\n",
    "from sklearn.preprocessing import LabelEncoder, OneHotEncoder\n",
    "from sklearn.ensemble import RandomForestClassifier\n",
    "import xgboost as xgb\n",
    "from sklearn.feature_extraction.text import TfidfVectorizer\n",
    "from sklearn.preprocessing import LabelEncoder, StandardScaler\n",
    "from datetime import datetime\n",
    "from sklearn.linear_model import LogisticRegression\n",
    "from sklearn import metrics\n",
    "from sklearn.ensemble import RandomForestClassifier\n",
    "from sklearn.model_selection import train_test_split, GridSearchCV, StratifiedKFold\n",
    "from sklearn.compose import ColumnTransformer\n",
    "import sklearn\n",
    "from sklearn.neural_network import MLPRegressor\n"
   ]
  },
  {
   "cell_type": "code",
   "execution_count": 49,
   "metadata": {},
   "outputs": [],
   "source": [
    "train = pd.read_csv(\"cleaned_train.csv\")\n",
    "test = pd.read_csv(\"cleaned_test.csv\")\n",
    "ids = test[\"id\"]"
   ]
  },
  {
   "cell_type": "code",
   "execution_count": 50,
   "metadata": {},
   "outputs": [],
   "source": [
    "def train_multinomial_logistic_regression(data, target_column, test_size=0.2, random_state=42):\n",
    "    \"\"\"\n",
    "    Trains a multinomial logistic regression classifier and evaluates its performance.\n",
    "\n",
    "    Parameters:\n",
    "    - X: Features (independent variables)\n",
    "    - y: Target variable (dependent variable)\n",
    "    - test_size: Proportion of the dataset to include in the test split (default is 0.2)\n",
    "    - random_state: Seed used by the random number generator (default is 42)\n",
    "\n",
    "    Returns:\n",
    "    - classifier: Trained multinomial logistic regression classifier\n",
    "    - accuracy: Accuracy of the classifier on the test set\n",
    "    - conf_matrix: Confusion matrix\n",
    "    - class_report: Classification report\n",
    "    \"\"\"\n",
    "\n",
    "    X = data.drop([target_column, 'id'], axis=1)\n",
    "    y = data[target_column]\n",
    "    y = y.astype(np.uint8)\n",
    "\n",
    "    # Split the dataset into training and testing sets\n",
    "    X_train, X_test, y_train, y_test = train_test_split(X, y, test_size=test_size, random_state=random_state)\n",
    "\n",
    "    # Create a multinomial logistic regression classifier\n",
    "    # classifier = LogisticRegression(multi_class='multinomial', solver='lbfgs', max_iter=1000) #\n",
    "    classifier = MLPRegressor((64,64,64), activation = \"relu\", solver='adam', max_iter=1000)\n",
    "\n",
    "    # Train the classifier on the training data\n",
    "    classifier.fit(X_train, y_train)\n",
    "\n",
    "    # Make predictions on the test set\n",
    "    y_pred = classifier.predict(X_test).clip(0, 5).round()\n",
    "\n",
    "    # Evaluate the performance of the classifier\n",
    "    accuracy = metrics.accuracy_score(y_test, y_pred)\n",
    "\n",
    "    # Print the confusion matrix\n",
    "    conf_matrix = metrics.confusion_matrix(y_test, y_pred)\n",
    "\n",
    "    # Print the classification report\n",
    "    class_report = metrics.classification_report(y_test, y_pred)\n",
    "\n",
    "    return classifier, accuracy, conf_matrix, class_report"
   ]
  },
  {
   "cell_type": "code",
   "execution_count": 51,
   "metadata": {},
   "outputs": [],
   "source": [
    "# train_multinomial_logistic_regression(train, \"price\")"
   ]
  },
  {
   "cell_type": "code",
   "execution_count": 55,
   "metadata": {},
   "outputs": [
    {
     "name": "stdout",
     "output_type": "stream",
     "text": [
      "Accuracy: 0.56\n"
     ]
    }
   ],
   "source": [
    "from sklearn.model_selection import train_test_split\n",
    "from sklearn.ensemble import RandomForestClassifier\n",
    "from sklearn import metrics\n",
    "\n",
    "def train_random_forest(data, test, target_column, n_folds=5, test_size=0.2, random_state=19):\n",
    "    \"\"\"\n",
    "    Trains a Random Forest classifier and evaluates its performance.\n",
    "\n",
    "    Parameters:\n",
    "    - X: Features (independent variables)\n",
    "    - y: Target variable (dependent variable)\n",
    "    - n_estimators: The number of trees in the forest (default is 100)\n",
    "    - test_size: Proportion of the dataset to include in the test split (default is 0.2)\n",
    "    - random_state: Seed used by the random number generator (default is 42)\n",
    "\n",
    "    Returns:\n",
    "    - classifier: Trained Random Forest classifier\n",
    "    - accuracy: Accuracy of the classifier on the test set\n",
    "    - conf_matrix: Confusion matrix\n",
    "    - class_report: Classification report\n",
    "    \"\"\"\n",
    "\n",
    "\n",
    "    X = data.drop([target_column, 'id'], axis=1)\n",
    "    y = data[target_column]\n",
    "\n",
    "    X_train, X_test, y_train, y_test = train_test_split(X, y, test_size=test_size, random_state=random_state)\n",
    "\n",
    "    # Create a Random Forest classifier\n",
    "    classifier = RandomForestClassifier(n_estimators=100, random_state=random_state)\n",
    "\n",
    "    param_grid = {\n",
    "    'max_depth': [None, 10, 20, 30],\n",
    "    'min_samples_split': [2, 5, 10],\n",
    "    'min_samples_leaf': [1, 2, 4]\n",
    "    # ,\n",
    "    # 'max_features': ['auto', 'sqrt', 'log2', None],\n",
    "    # 'bootstrap': [True, False]\n",
    "    }\n",
    "    # param_grid = {}\n",
    "\n",
    "    stratified_kfold = StratifiedKFold(n_splits=5, shuffle=True, random_state=random_state)\n",
    "\n",
    "    # Create GridSearchCV\n",
    "    grid_search = GridSearchCV(classifier, param_grid, cv=stratified_kfold, scoring='accuracy')\n",
    "\n",
    "    # Fit the model\n",
    "    grid_search.fit(X_train, y_train)\n",
    "\n",
    "    # Get the best estimator\n",
    "    best_classifier = grid_search.best_estimator_\n",
    "\n",
    "    # Make predictions on the test set\n",
    "    y_pred = best_classifier.predict(X_test)\n",
    "\n",
    "    # Evaluate the performance of the best classifier\n",
    "    accuracy = metrics.accuracy_score(y_test, y_pred)\n",
    "\n",
    "    # Make predictions on the final test set\n",
    "    test = test.drop(\"id\", axis=1)\n",
    "    y_final = best_classifier.predict(test)\n",
    "\n",
    "    return accuracy, y_pred, y_final, best_classifier\n",
    "\n",
    "accuracy, y_pred, y_final, best_classifier = train_random_forest(train, test, \"price\")\n",
    "print(f\"Accuracy: {accuracy:.2f}\")\n"
   ]
  },
  {
   "cell_type": "code",
   "execution_count": 56,
   "metadata": {},
   "outputs": [],
   "source": [
    "# Create a DataFrame with IDs and Predictions\n",
    "output_df = pd.DataFrame({'id': ids.astype(int), 'price': y_final})\n",
    "\n",
    "# Save the DataFrame to a CSV file\n",
    "output_df.to_csv('predictions_rf.csv', index=False)"
   ]
  },
  {
   "cell_type": "code",
   "execution_count": null,
   "metadata": {},
   "outputs": [],
   "source": []
  }
 ],
 "metadata": {
  "kernelspec": {
   "display_name": "base",
   "language": "python",
   "name": "python3"
  },
  "language_info": {
   "codemirror_mode": {
    "name": "ipython",
    "version": 3
   },
   "file_extension": ".py",
   "mimetype": "text/x-python",
   "name": "python",
   "nbconvert_exporter": "python",
   "pygments_lexer": "ipython3",
   "version": "3.10.9"
  }
 },
 "nbformat": 4,
 "nbformat_minor": 2
}
