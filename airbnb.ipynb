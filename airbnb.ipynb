{
 "cells": [
  {
   "cell_type": "code",
   "execution_count": 80,
   "metadata": {},
   "outputs": [],
   "source": [
    "import numpy as np\n",
    "import pandas as pd\n",
    "import pandas as pd\n",
    "from sklearn.model_selection import train_test_split, GridSearchCV\n",
    "from sklearn.preprocessing import LabelEncoder, OneHotEncoder\n",
    "import xgboost as xgb\n",
    "from sklearn.feature_extraction.text import TfidfVectorizer\n",
    "from sklearn.preprocessing import LabelEncoder, StandardScaler\n",
    "from datetime import datetime"
   ]
  },
  {
   "cell_type": "code",
   "execution_count": 81,
   "metadata": {},
   "outputs": [],
   "source": [
    "train = pd.read_csv(\"train.csv\")\n",
    "test = pd.read_csv(\"test.csv\")"
   ]
  },
  {
   "cell_type": "code",
   "execution_count": 82,
   "metadata": {},
   "outputs": [
    {
     "name": "stdout",
     "output_type": "stream",
     "text": [
      "Index(['id', 'scrape_id', 'last_scraped', 'name', 'description', 'picture_url',\n",
      "       'host_id', 'host_name', 'host_since', 'host_is_superhost',\n",
      "       'host_listings_count', 'host_total_listings_count',\n",
      "       'host_verifications', 'host_has_profile_pic', 'host_identity_verified',\n",
      "       'neighbourhood_cleansed', 'neighbourhood_group_cleansed', 'latitude',\n",
      "       'longitude', 'property_type', 'room_type', 'accommodates',\n",
      "       'bathrooms_text', 'beds', 'amenities', 'price', 'minimum_nights',\n",
      "       'maximum_nights', 'minimum_minimum_nights', 'maximum_minimum_nights',\n",
      "       'minimum_maximum_nights', 'maximum_maximum_nights',\n",
      "       'minimum_nights_avg_ntm', 'maximum_nights_avg_ntm', 'has_availability',\n",
      "       'availability_30', 'availability_60', 'availability_90',\n",
      "       'availability_365', 'calendar_last_scraped', 'number_of_reviews',\n",
      "       'number_of_reviews_ltm', 'number_of_reviews_l30d', 'instant_bookable',\n",
      "       'calculated_host_listings_count',\n",
      "       'calculated_host_listings_count_entire_homes',\n",
      "       'calculated_host_listings_count_private_rooms',\n",
      "       'calculated_host_listings_count_shared_rooms'],\n",
      "      dtype='object')\n"
     ]
    }
   ],
   "source": [
    "print(train.columns)\n",
    "target = train[\"price\"]\n",
    "text_columns = train.select_dtypes(include=['object']).columns\n",
    "date_columns = train.select_dtypes(include=['datetime64']).columns\n",
    "train = train.drop(text_columns,axis=1)\n",
    "train = train.drop(date_columns, axis=1)\n",
    "train = train.drop([\"scrape_id\", \"host_id\"],axis=1)\n",
    "\n",
    "test = test.drop(text_columns,axis=1)\n",
    "test = test.drop(date_columns, axis=1)\n",
    "test = test.drop([\"scrape_id\", \"host_id\"],axis=1)"
   ]
  },
  {
   "cell_type": "code",
   "execution_count": 83,
   "metadata": {},
   "outputs": [
    {
     "data": {
      "text/plain": [
       "Index(['id', 'host_listings_count', 'host_total_listings_count', 'latitude',\n",
       "       'longitude', 'accommodates', 'beds', 'price', 'minimum_nights',\n",
       "       'maximum_nights', 'minimum_minimum_nights', 'maximum_minimum_nights',\n",
       "       'minimum_maximum_nights', 'maximum_maximum_nights',\n",
       "       'minimum_nights_avg_ntm', 'maximum_nights_avg_ntm', 'availability_30',\n",
       "       'availability_60', 'availability_90', 'availability_365',\n",
       "       'number_of_reviews', 'number_of_reviews_ltm', 'number_of_reviews_l30d',\n",
       "       'calculated_host_listings_count',\n",
       "       'calculated_host_listings_count_entire_homes',\n",
       "       'calculated_host_listings_count_private_rooms',\n",
       "       'calculated_host_listings_count_shared_rooms'],\n",
       "      dtype='object')"
      ]
     },
     "execution_count": 83,
     "metadata": {},
     "output_type": "execute_result"
    }
   ],
   "source": [
    "train.columns"
   ]
  },
  {
   "cell_type": "code",
   "execution_count": 84,
   "metadata": {},
   "outputs": [],
   "source": [
    "def train_evaluate_xgboost(data, test_data, target_column='price', random_state=42):\n",
    "    \"\"\"\n",
    "    Train and evaluate a tuned XGBoost model for a categorical prediction problem using cross-validation.\n",
    "\n",
    "    Parameters:\n",
    "    - data: pandas DataFrame, the input dataset\n",
    "    - target_column: str, the column to predict\n",
    "    - random_state: int, seed used by the random number generator\n",
    "\n",
    "    Returns:\n",
    "    - cv_results: dict, the results of cross-validation\n",
    "    \"\"\"\n",
    "\n",
    "    # Step 1: Data Preparation\n",
    "    X = data.drop(target_column, axis=1)\n",
    "    y = data[target_column]\n",
    "\n",
    "    # Encode categorical variables using one-hot encoding\n",
    "    categorical_columns = X.select_dtypes(include=['object']).columns\n",
    "    X = pd.get_dummies(X, columns=categorical_columns, drop_first=True)\n",
    "\n",
    "    # Step 2: XGBoost Model Training with Parameter Tuning (Grid Search)\n",
    "    param_grid = {\n",
    "        'max_depth': [3, 5, 7],\n",
    "        'learning_rate': [0.05, 0.1, 0.2],\n",
    "        'subsample': [0.8, 1.0],\n",
    "        'colsample_bytree': [0.8, 1.0]\n",
    "    }\n",
    "\n",
    "    xgb_model = xgb.XGBClassifier(objective='multi:softmax', num_class=len(data[target_column].unique()), random_state=random_state)\n",
    "\n",
    "    grid_search = GridSearchCV(xgb_model, param_grid, scoring='accuracy', cv=3, n_jobs=-1)\n",
    "    cv_results = grid_search.fit(X, y)\n",
    "\n",
    "    # Print the best parameters and their corresponding accuracy\n",
    "    print(\"Best Parameters: \", cv_results.best_params_)\n",
    "    print(\"Best Accuracy: {:.2f}\".format(cv_results.best_score_))\n",
    "\n",
    "    # Use the best parameters for the final model\n",
    "    final_model = xgb.XGBClassifier(objective='multi:softmax', num_class=len(train[target_column].unique()), random_state=random_state, **grid_search.best_params_)\n",
    "\n",
    "    # Train the final XGBoost model\n",
    "    final_model.fit(X, y)\n",
    "\n",
    "    # Step 3: Data Preparation for Testing\n",
    "    X_test = test_data.copy()  # Copy the external test set\n",
    "    X_test = pd.get_dummies(X_test, columns=categorical_columns, drop_first=True)\n",
    "\n",
    "    # Step 4: Make Predictions on the External Test Set\n",
    "    predictions = final_model.predict(X_test)\n",
    "\n",
    "    return predictions\n"
   ]
  },
  {
   "cell_type": "code",
   "execution_count": 85,
   "metadata": {},
   "outputs": [
    {
     "name": "stdout",
     "output_type": "stream",
     "text": [
      "Best Parameters:  {'colsample_bytree': 0.8, 'learning_rate': 0.05, 'max_depth': 7, 'subsample': 0.8}\n",
      "Best Accuracy: 0.48\n"
     ]
    }
   ],
   "source": [
    "# Example usage:\n",
    "# Assuming your dataset is in a variable called 'your_data'\n",
    "processed_data = train.dropna()\n",
    "processed_test = test.dropna()\n",
    "predictions = train_evaluate_xgboost(processed_data, test)"
   ]
  },
  {
   "cell_type": "code",
   "execution_count": 87,
   "metadata": {},
   "outputs": [],
   "source": [
    "# Create a DataFrame with IDs and Predictions\n",
    "output_df = pd.DataFrame({'id': test['id'], 'price': predictions})\n",
    "\n",
    "# Save the DataFrame to a CSV file\n",
    "output_df.to_csv('predictions.csv', index=False)"
   ]
  }
 ],
 "metadata": {
  "kernelspec": {
   "display_name": "base",
   "language": "python",
   "name": "python3"
  },
  "language_info": {
   "codemirror_mode": {
    "name": "ipython",
    "version": 3
   },
   "file_extension": ".py",
   "mimetype": "text/x-python",
   "name": "python",
   "nbconvert_exporter": "python",
   "pygments_lexer": "ipython3",
   "version": "3.10.9"
  }
 },
 "nbformat": 4,
 "nbformat_minor": 2
}
